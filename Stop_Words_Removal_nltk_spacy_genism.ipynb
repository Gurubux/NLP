{
  "nbformat": 4,
  "nbformat_minor": 0,
  "metadata": {
    "colab": {
      "name": "Stop_Words_Removal_nltk_spacy_genism.ipynb",
      "provenance": [],
      "collapsed_sections": []
    },
    "kernelspec": {
      "name": "python3",
      "display_name": "Python 3"
    }
  },
  "cells": [
    {
      "cell_type": "markdown",
      "metadata": {
        "id": "sXiCSifJCJba",
        "colab_type": "text"
      },
      "source": [
        "### Remove Stop Words using NLTK"
      ]
    },
    {
      "cell_type": "code",
      "metadata": {
        "id": "yi-5bFx1CIZi",
        "colab_type": "code",
        "outputId": "21e21e98-340a-43f6-b5a4-5bf01570f52b",
        "colab": {
          "base_uri": "https://localhost:8080/",
          "height": 194
        }
      },
      "source": [
        "import nltk\n",
        "nltk.download('stopwords')\n",
        "\n",
        "from nltk.corpus import stopwords\n",
        "stop_words = set(stopwords.words('english'))\n",
        "\n",
        "from nltk.tokenize import word_tokenize \n",
        "nltk.download('punkt')\n",
        "\n",
        "corpus_ = ['He determined to drop his litigation with the monastry, and relinguish his claims to the wood-cuting and fishery rihgts at once.',\n",
        "\t\t\t'He was the more ready to do this becuase the rights had become much less valuable, and he had  indeed the vaguest idea where the wood and river in question were.']\n",
        "\n",
        "filtered_courpus=[]\n",
        "for sentence in corpus_:\n",
        "\tword_tokens = word_tokenize(sentence)\n",
        "\tfiltered_sentence = [] \n",
        "\tfor w in word_tokens: \n",
        "\t    if w not in stop_words: \n",
        "\t        filtered_sentence.append(w) \n",
        "\tfiltered_courpus.append(\" \".join(filtered_sentence))\n",
        "\n",
        "corpus_,filtered_courpus,len(corpus_[0]),len(filtered_courpus[0])"
      ],
      "execution_count": 1,
      "outputs": [
        {
          "output_type": "stream",
          "text": [
            "[nltk_data] Downloading package stopwords to /root/nltk_data...\n",
            "[nltk_data]   Unzipping corpora/stopwords.zip.\n",
            "[nltk_data] Downloading package punkt to /root/nltk_data...\n",
            "[nltk_data]   Unzipping tokenizers/punkt.zip.\n"
          ],
          "name": "stdout"
        },
        {
          "output_type": "execute_result",
          "data": {
            "text/plain": [
              "(['He determined to drop his litigation with the monastry, and relinguish his claims to the wood-cuting and fishery rihgts at once.',\n",
              "  'He was the more ready to do this becuase the rights had become much less valuable, and he had  indeed the vaguest idea where the wood and river in question were.'],\n",
              " ['He determined drop litigation monastry , relinguish claims wood-cuting fishery rihgts .',\n",
              "  'He ready becuase rights become much less valuable , indeed vaguest idea wood river question .'],\n",
              " 128,\n",
              " 87)"
            ]
          },
          "metadata": {
            "tags": []
          },
          "execution_count": 1
        }
      ]
    },
    {
      "cell_type": "markdown",
      "metadata": {
        "id": "bMIAkmO3GoIM",
        "colab_type": "text"
      },
      "source": [
        "### Remove Stop Words using SPACY"
      ]
    },
    {
      "cell_type": "code",
      "metadata": {
        "id": "HB8c349NDaoJ",
        "colab_type": "code",
        "outputId": "42df6795-99e7-4371-c02d-4bc1e6002894",
        "colab": {
          "base_uri": "https://localhost:8080/",
          "height": 123
        }
      },
      "source": [
        "#  \"nlp\" Object is used to create documents with linguistic annotations.\n",
        "from spacy.lang.en.stop_words import STOP_WORDS\n",
        "from spacy.lang.en import English\n",
        "\n",
        "# Load English tokenizer, tagger, parser, NER and word vectors\n",
        "nlp = English()\n",
        "\n",
        "corpus_ = ['He determined to drop his litigation with the monastry, and relinguish his claims to the wood-cuting and fishery rihgts at once.',\n",
        "\t\t\t'He was the more ready to do this becuase the rights had become much less valuable, and he had  indeed the vaguest idea where the wood and river in question were.']\n",
        "\n",
        "filtered_corpus=[]\n",
        "for text in corpus_:\n",
        "  my_doc = nlp(text)\n",
        "  token_list = [token.text for token in my_doc]\n",
        "  filtered_sentence =[] \n",
        "  for word in token_list:\n",
        "    lexeme = nlp.vocab[word]\n",
        "    if lexeme.is_stop == False:\n",
        "      filtered_sentence.append(word)   \n",
        "  filtered_corpus.append(\" \".join(filtered_sentence))\n",
        "corpus_,filtered_courpus,len(corpus_[0]),len(filtered_courpus[0])"
      ],
      "execution_count": 2,
      "outputs": [
        {
          "output_type": "execute_result",
          "data": {
            "text/plain": [
              "(['He determined to drop his litigation with the monastry, and relinguish his claims to the wood-cuting and fishery rihgts at once.',\n",
              "  'He was the more ready to do this becuase the rights had become much less valuable, and he had  indeed the vaguest idea where the wood and river in question were.'],\n",
              " ['He determined drop litigation monastry , relinguish claims wood-cuting fishery rihgts .',\n",
              "  'He ready becuase rights become much less valuable , indeed vaguest idea wood river question .'],\n",
              " 128,\n",
              " 87)"
            ]
          },
          "metadata": {
            "tags": []
          },
          "execution_count": 2
        }
      ]
    },
    {
      "cell_type": "markdown",
      "metadata": {
        "id": "aiP0tv_EG5EQ",
        "colab_type": "text"
      },
      "source": [
        "### Remove Stop Words using Genism"
      ]
    },
    {
      "cell_type": "code",
      "metadata": {
        "id": "vUjBozffG6Ih",
        "colab_type": "code",
        "outputId": "a97443ca-be4c-4408-b332-364de3bf5ef0",
        "colab": {
          "base_uri": "https://localhost:8080/",
          "height": 123
        }
      },
      "source": [
        "from gensim.parsing.preprocessing import remove_stopwords\n",
        "corpus_ = ['He determined to drop his litigation with the monastry, and relinguish his claims to the wood-cuting and fishery rihgts at once.',\n",
        "\t\t\t'He was the more ready to do this becuase the rights had become much less valuable, and he had  indeed the vaguest idea where the wood and river in question were.']\n",
        "# pass the sentence in the remove_stopwords function\n",
        "filtered_courpus=[]\n",
        "for text in corpus_:\n",
        "    result = remove_stopwords(text)\n",
        "    filtered_courpus.append(result)\n",
        "corpus_,filtered_courpus,len(corpus_[0]),len(filtered_courpus[0])"
      ],
      "execution_count": 3,
      "outputs": [
        {
          "output_type": "execute_result",
          "data": {
            "text/plain": [
              "(['He determined to drop his litigation with the monastry, and relinguish his claims to the wood-cuting and fishery rihgts at once.',\n",
              "  'He was the more ready to do this becuase the rights had become much less valuable, and he had  indeed the vaguest idea where the wood and river in question were.'],\n",
              " ['He determined drop litigation monastry, relinguish claims wood-cuting fishery rihgts once.',\n",
              "  'He ready becuase rights valuable, vaguest idea wood river question were.'],\n",
              " 128,\n",
              " 90)"
            ]
          },
          "metadata": {
            "tags": []
          },
          "execution_count": 3
        }
      ]
    }
  ]
}