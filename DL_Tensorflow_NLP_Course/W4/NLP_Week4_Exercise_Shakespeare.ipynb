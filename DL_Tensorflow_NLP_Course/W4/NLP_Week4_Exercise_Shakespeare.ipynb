{
  "nbformat": 4,
  "nbformat_minor": 0,
  "metadata": {
    "colab": {
      "name": "Copy of NLP_Week4_Exercise_Shakespeare_Answer.ipynb",
      "provenance": [],
      "collapsed_sections": []
    },
    "kernelspec": {
      "name": "python2",
      "display_name": "Python 2"
    },
    "accelerator": "GPU"
  },
  "cells": [
    {
      "cell_type": "code",
      "metadata": {
        "id": "BOwsuGQQY9OL",
        "colab_type": "code",
        "colab": {}
      },
      "source": [
        "from tensorflow.keras.preprocessing.sequence import pad_sequences\n",
        "from tensorflow.keras.layers import Embedding, LSTM, Dense, Dropout, Bidirectional\n",
        "from tensorflow.keras.preprocessing.text import Tokenizer\n",
        "from tensorflow.keras.models import Sequential\n",
        "from tensorflow.keras.optimizers import Adam\n",
        "from tensorflow.keras import regularizers\n",
        "import tensorflow.keras.utils as ku \n",
        "import numpy as np "
      ],
      "execution_count": 0,
      "outputs": []
    },
    {
      "cell_type": "code",
      "metadata": {
        "colab_type": "code",
        "id": "PRnDnCW-Z7qv",
        "colab": {
          "base_uri": "https://localhost:8080/",
          "height": 212
        },
        "outputId": "d3dc6f94-ba38-4fce-c6d2-d6fac34a548b"
      },
      "source": [
        "tokenizer = Tokenizer()\n",
        "!wget --no-check-certificate \\\n",
        "    https://storage.googleapis.com/laurencemoroney-blog.appspot.com/sonnets.txt \\\n",
        "    -O /tmp/sonnets.txt\n",
        "data = open('/tmp/sonnets.txt').read()\n",
        "\n",
        "corpus = data.lower().split(\"\\n\")\n",
        "\n",
        "\n",
        "tokenizer.fit_on_texts(corpus)\n",
        "total_words = len(tokenizer.word_index) + 1\n",
        "\n",
        "# create input sequences using list of tokens\n",
        "input_sequences = []\n",
        "for line in corpus:\n",
        "\ttoken_list = tokenizer.texts_to_sequences([line])[0]\n",
        "\tfor i in range(1, len(token_list)):\n",
        "\t\tn_gram_sequence = token_list[:i+1]\n",
        "\t\tinput_sequences.append(n_gram_sequence)\n",
        "\n",
        "\n",
        "# pad sequences \n",
        "max_sequence_len = max([len(x) for x in input_sequences])\n",
        "input_sequences = np.array(pad_sequences(input_sequences, maxlen=max_sequence_len, padding='pre'))\n",
        "\n",
        "# create predictors and label\n",
        "predictors, label = input_sequences[:,:-1],input_sequences[:,-1]\n",
        "\n",
        "label = ku.to_categorical(label, num_classes=total_words)"
      ],
      "execution_count": 4,
      "outputs": [
        {
          "output_type": "stream",
          "text": [
            "--2019-09-20 09:36:54--  https://storage.googleapis.com/laurencemoroney-blog.appspot.com/sonnets.txt\n",
            "Resolving storage.googleapis.com (storage.googleapis.com)... 64.233.166.128, 2a00:1450:400c:c07::80\n",
            "Connecting to storage.googleapis.com (storage.googleapis.com)|64.233.166.128|:443... connected.\n",
            "HTTP request sent, awaiting response... 200 OK\n",
            "Length: 93578 (91K) [text/plain]\n",
            "Saving to: ‘/tmp/sonnets.txt’\n",
            "\n",
            "\r/tmp/sonnets.txt      0%[                    ]       0  --.-KB/s               \r/tmp/sonnets.txt    100%[===================>]  91.38K  --.-KB/s    in 0.001s  \n",
            "\n",
            "2019-09-20 09:36:54 (80.7 MB/s) - ‘/tmp/sonnets.txt’ saved [93578/93578]\n",
            "\n"
          ],
          "name": "stdout"
        }
      ]
    },
    {
      "cell_type": "code",
      "metadata": {
        "id": "w9vH8Y59ajYL",
        "colab_type": "code",
        "colab": {
          "base_uri": "https://localhost:8080/",
          "height": 694
        },
        "outputId": "1954fff7-6140-46df-f314-194c41d3484a"
      },
      "source": [
        "model = Sequential()\n",
        "model.add(Embedding(total_words, 100, input_length=max_sequence_len-1))\n",
        "model.add(Bidirectional(LSTM(150, return_sequences = True)))\n",
        "model.add(Dropout(0.2))\n",
        "model.add(LSTM(100))\n",
        "model.add(Dense(total_words/2, activation='relu', kernel_regularizer=regularizers.l2(0.01)))\n",
        "model.add(Dense(total_words, activation='softmax'))\n",
        "model.compile(loss='categorical_crossentropy', optimizer='adam', metrics=['accuracy'])\n",
        "print(model.summary())\n"
      ],
      "execution_count": 5,
      "outputs": [
        {
          "output_type": "stream",
          "text": [
            "WARNING: Logging before flag parsing goes to stderr.\n",
            "W0920 09:36:56.852933 140653217904512 deprecation.py:506] From /usr/local/lib/python2.7/dist-packages/tensorflow/python/keras/initializers.py:119: calling __init__ (from tensorflow.python.ops.init_ops) with dtype is deprecated and will be removed in a future version.\n",
            "Instructions for updating:\n",
            "Call initializer instance with the dtype argument instead of passing it to the constructor\n",
            "W0920 09:36:56.883177 140653217904512 deprecation.py:506] From /usr/local/lib/python2.7/dist-packages/tensorflow/python/ops/init_ops.py:1251: calling __init__ (from tensorflow.python.ops.init_ops) with dtype is deprecated and will be removed in a future version.\n",
            "Instructions for updating:\n",
            "Call initializer instance with the dtype argument instead of passing it to the constructor\n",
            "W0920 09:36:56.891062 140653217904512 deprecation.py:506] From /usr/local/lib/python2.7/dist-packages/tensorflow/python/ops/init_ops.py:97: calling __init__ (from tensorflow.python.ops.init_ops) with dtype is deprecated and will be removed in a future version.\n",
            "Instructions for updating:\n",
            "Call initializer instance with the dtype argument instead of passing it to the constructor\n",
            "W0920 09:36:56.892247 140653217904512 deprecation.py:506] From /usr/local/lib/python2.7/dist-packages/tensorflow/python/ops/init_ops.py:97: calling __init__ (from tensorflow.python.ops.init_ops) with dtype is deprecated and will be removed in a future version.\n",
            "Instructions for updating:\n",
            "Call initializer instance with the dtype argument instead of passing it to the constructor\n",
            "W0920 09:36:56.894049 140653217904512 deprecation.py:506] From /usr/local/lib/python2.7/dist-packages/tensorflow/python/ops/init_ops.py:97: calling __init__ (from tensorflow.python.ops.init_ops) with dtype is deprecated and will be removed in a future version.\n",
            "Instructions for updating:\n",
            "Call initializer instance with the dtype argument instead of passing it to the constructor\n"
          ],
          "name": "stderr"
        },
        {
          "output_type": "stream",
          "text": [
            "Model: \"sequential\"\n",
            "_________________________________________________________________\n",
            "Layer (type)                 Output Shape              Param #   \n",
            "=================================================================\n",
            "embedding (Embedding)        (None, 10, 100)           321100    \n",
            "_________________________________________________________________\n",
            "bidirectional (Bidirectional (None, 10, 300)           301200    \n",
            "_________________________________________________________________\n",
            "dropout (Dropout)            (None, 10, 300)           0         \n",
            "_________________________________________________________________\n",
            "lstm_1 (LSTM)                (None, 100)               160400    \n",
            "_________________________________________________________________\n",
            "dense (Dense)                (None, 1605)              162105    \n",
            "_________________________________________________________________\n",
            "dense_1 (Dense)              (None, 3211)              5156866   \n",
            "=================================================================\n",
            "Total params: 6,101,671\n",
            "Trainable params: 6,101,671\n",
            "Non-trainable params: 0\n",
            "_________________________________________________________________\n",
            "None\n"
          ],
          "name": "stdout"
        }
      ]
    },
    {
      "cell_type": "code",
      "metadata": {
        "id": "AIg2f1HBxqof",
        "colab_type": "code",
        "colab": {
          "base_uri": "https://localhost:8080/",
          "height": 1000
        },
        "outputId": "350072a3-fda4-4eb6-98b1-f80c0bf49206"
      },
      "source": [
        " history = model.fit(predictors, label, epochs=100, verbose=1)"
      ],
      "execution_count": 6,
      "outputs": [
        {
          "output_type": "stream",
          "text": [
            "W0920 09:36:58.046986 140653217904512 deprecation.py:323] From /usr/local/lib/python2.7/dist-packages/tensorflow/python/ops/math_grad.py:1250: where (from tensorflow.python.ops.array_ops) is deprecated and will be removed in a future version.\n",
            "Instructions for updating:\n",
            "Use tf.where in 2.0, which has the same broadcast rule as np.where\n"
          ],
          "name": "stderr"
        },
        {
          "output_type": "stream",
          "text": [
            "Epoch 1/100\n",
            "15462/15462 [==============================] - 43s 3ms/sample - loss: 6.8955 - acc: 0.0196\n",
            "Epoch 2/100\n",
            "15462/15462 [==============================] - 42s 3ms/sample - loss: 6.5007 - acc: 0.0233\n",
            "Epoch 3/100\n",
            "15462/15462 [==============================] - 41s 3ms/sample - loss: 6.3712 - acc: 0.0266\n",
            "Epoch 4/100\n",
            "15462/15462 [==============================] - 41s 3ms/sample - loss: 6.2576 - acc: 0.0305\n",
            "Epoch 5/100\n",
            "15462/15462 [==============================] - 41s 3ms/sample - loss: 6.1727 - acc: 0.0362\n",
            "Epoch 6/100\n",
            "15462/15462 [==============================] - 41s 3ms/sample - loss: 6.0936 - acc: 0.0376\n",
            "Epoch 7/100\n",
            "15462/15462 [==============================] - 41s 3ms/sample - loss: 6.0107 - acc: 0.0436\n",
            "Epoch 8/100\n",
            "15462/15462 [==============================] - 41s 3ms/sample - loss: 5.9217 - acc: 0.0473\n",
            "Epoch 9/100\n",
            "15462/15462 [==============================] - 41s 3ms/sample - loss: 5.8256 - acc: 0.0529\n",
            "Epoch 10/100\n",
            "15462/15462 [==============================] - 41s 3ms/sample - loss: 5.7187 - acc: 0.0612\n",
            "Epoch 11/100\n",
            "15462/15462 [==============================] - 41s 3ms/sample - loss: 5.6160 - acc: 0.0630\n",
            "Epoch 12/100\n",
            "15462/15462 [==============================] - 41s 3ms/sample - loss: 5.5060 - acc: 0.0703\n",
            "Epoch 13/100\n",
            "15462/15462 [==============================] - 41s 3ms/sample - loss: 5.4062 - acc: 0.0741\n",
            "Epoch 14/100\n",
            "15462/15462 [==============================] - 41s 3ms/sample - loss: 5.3003 - acc: 0.0827\n",
            "Epoch 15/100\n",
            "15462/15462 [==============================] - 41s 3ms/sample - loss: 5.2031 - acc: 0.0858\n",
            "Epoch 16/100\n",
            "15462/15462 [==============================] - 41s 3ms/sample - loss: 5.0965 - acc: 0.0938\n",
            "Epoch 17/100\n",
            "15462/15462 [==============================] - 41s 3ms/sample - loss: 4.9941 - acc: 0.1004\n",
            "Epoch 18/100\n",
            "15462/15462 [==============================] - 41s 3ms/sample - loss: 4.8851 - acc: 0.1097\n",
            "Epoch 19/100\n",
            "15462/15462 [==============================] - 41s 3ms/sample - loss: 4.7824 - acc: 0.1215\n",
            "Epoch 20/100\n",
            "15462/15462 [==============================] - 41s 3ms/sample - loss: 4.6829 - acc: 0.1279\n",
            "Epoch 21/100\n",
            "15462/15462 [==============================] - 41s 3ms/sample - loss: 4.5785 - acc: 0.1394\n",
            "Epoch 22/100\n",
            "15462/15462 [==============================] - 41s 3ms/sample - loss: 4.4728 - acc: 0.1508\n",
            "Epoch 23/100\n",
            "15462/15462 [==============================] - 41s 3ms/sample - loss: 4.3683 - acc: 0.1601\n",
            "Epoch 24/100\n",
            "15462/15462 [==============================] - 41s 3ms/sample - loss: 4.2665 - acc: 0.1779\n",
            "Epoch 25/100\n",
            "15462/15462 [==============================] - 41s 3ms/sample - loss: 4.1639 - acc: 0.1885\n",
            "Epoch 26/100\n",
            "15462/15462 [==============================] - 41s 3ms/sample - loss: 4.0609 - acc: 0.2026\n",
            "Epoch 27/100\n",
            "15462/15462 [==============================] - 41s 3ms/sample - loss: 3.9556 - acc: 0.2184\n",
            "Epoch 28/100\n",
            "15462/15462 [==============================] - 41s 3ms/sample - loss: 3.8620 - acc: 0.2359\n",
            "Epoch 29/100\n",
            "15462/15462 [==============================] - 41s 3ms/sample - loss: 3.7643 - acc: 0.2505\n",
            "Epoch 30/100\n",
            "15462/15462 [==============================] - 41s 3ms/sample - loss: 3.6676 - acc: 0.2710\n",
            "Epoch 31/100\n",
            "15462/15462 [==============================] - 41s 3ms/sample - loss: 3.5723 - acc: 0.2870\n",
            "Epoch 32/100\n",
            "15462/15462 [==============================] - 41s 3ms/sample - loss: 3.4756 - acc: 0.3110\n",
            "Epoch 33/100\n",
            "15462/15462 [==============================] - 41s 3ms/sample - loss: 3.3941 - acc: 0.3284\n",
            "Epoch 34/100\n",
            "15462/15462 [==============================] - 41s 3ms/sample - loss: 3.3090 - acc: 0.3485\n",
            "Epoch 35/100\n",
            "15462/15462 [==============================] - 41s 3ms/sample - loss: 3.2239 - acc: 0.3654\n",
            "Epoch 36/100\n",
            "15462/15462 [==============================] - 40s 3ms/sample - loss: 3.1418 - acc: 0.3827\n",
            "Epoch 37/100\n",
            "15462/15462 [==============================] - 41s 3ms/sample - loss: 3.0687 - acc: 0.4014\n",
            "Epoch 38/100\n",
            "15462/15462 [==============================] - 41s 3ms/sample - loss: 3.0006 - acc: 0.4128\n",
            "Epoch 39/100\n",
            "15462/15462 [==============================] - 41s 3ms/sample - loss: 2.9244 - acc: 0.4317\n",
            "Epoch 40/100\n",
            "15462/15462 [==============================] - 41s 3ms/sample - loss: 2.8589 - acc: 0.4465\n",
            "Epoch 41/100\n",
            "15462/15462 [==============================] - 40s 3ms/sample - loss: 2.7923 - acc: 0.4561\n",
            "Epoch 42/100\n",
            "15462/15462 [==============================] - 41s 3ms/sample - loss: 2.7207 - acc: 0.4767\n",
            "Epoch 43/100\n",
            "15462/15462 [==============================] - 41s 3ms/sample - loss: 2.6557 - acc: 0.4893\n",
            "Epoch 44/100\n",
            "15462/15462 [==============================] - 41s 3ms/sample - loss: 2.6016 - acc: 0.4992\n",
            "Epoch 45/100\n",
            "15462/15462 [==============================] - 41s 3ms/sample - loss: 2.5340 - acc: 0.5171\n",
            "Epoch 46/100\n",
            "15462/15462 [==============================] - 41s 3ms/sample - loss: 2.4940 - acc: 0.5292\n",
            "Epoch 47/100\n",
            "15462/15462 [==============================] - 41s 3ms/sample - loss: 2.4308 - acc: 0.5402\n",
            "Epoch 48/100\n",
            "15462/15462 [==============================] - 41s 3ms/sample - loss: 2.3865 - acc: 0.5493\n",
            "Epoch 49/100\n",
            "15462/15462 [==============================] - 41s 3ms/sample - loss: 2.3235 - acc: 0.5666\n",
            "Epoch 50/100\n",
            "15462/15462 [==============================] - 41s 3ms/sample - loss: 2.2794 - acc: 0.5770\n",
            "Epoch 51/100\n",
            "15462/15462 [==============================] - 41s 3ms/sample - loss: 2.2379 - acc: 0.5834\n",
            "Epoch 52/100\n",
            "15462/15462 [==============================] - 40s 3ms/sample - loss: 2.1926 - acc: 0.5924\n",
            "Epoch 53/100\n",
            "15462/15462 [==============================] - 40s 3ms/sample - loss: 2.1465 - acc: 0.6030\n",
            "Epoch 54/100\n",
            "15462/15462 [==============================] - 40s 3ms/sample - loss: 2.1166 - acc: 0.6103\n",
            "Epoch 55/100\n",
            "15462/15462 [==============================] - 41s 3ms/sample - loss: 2.0685 - acc: 0.6206\n",
            "Epoch 56/100\n",
            "15462/15462 [==============================] - 40s 3ms/sample - loss: 2.0241 - acc: 0.6334\n",
            "Epoch 57/100\n",
            "15462/15462 [==============================] - 40s 3ms/sample - loss: 1.9801 - acc: 0.6409\n",
            "Epoch 58/100\n",
            "15462/15462 [==============================] - 40s 3ms/sample - loss: 1.9557 - acc: 0.6438\n",
            "Epoch 59/100\n",
            "15462/15462 [==============================] - 41s 3ms/sample - loss: 1.9149 - acc: 0.6552\n",
            "Epoch 60/100\n",
            "15462/15462 [==============================] - 41s 3ms/sample - loss: 1.8882 - acc: 0.6592\n",
            "Epoch 61/100\n",
            "15462/15462 [==============================] - 40s 3ms/sample - loss: 1.8590 - acc: 0.6649\n",
            "Epoch 62/100\n",
            "15462/15462 [==============================] - 41s 3ms/sample - loss: 1.8375 - acc: 0.6693\n",
            "Epoch 63/100\n",
            "15462/15462 [==============================] - 41s 3ms/sample - loss: 1.7892 - acc: 0.6824\n",
            "Epoch 64/100\n",
            "15462/15462 [==============================] - 41s 3ms/sample - loss: 1.7458 - acc: 0.6903\n",
            "Epoch 65/100\n",
            "15462/15462 [==============================] - 41s 3ms/sample - loss: 1.7207 - acc: 0.6951\n",
            "Epoch 66/100\n",
            "15462/15462 [==============================] - 41s 3ms/sample - loss: 1.7186 - acc: 0.6940\n",
            "Epoch 67/100\n",
            "15462/15462 [==============================] - 41s 3ms/sample - loss: 1.6821 - acc: 0.7045\n",
            "Epoch 68/100\n",
            "15462/15462 [==============================] - 41s 3ms/sample - loss: 1.6562 - acc: 0.7094\n",
            "Epoch 69/100\n",
            "15462/15462 [==============================] - 41s 3ms/sample - loss: 1.6150 - acc: 0.7198\n",
            "Epoch 70/100\n",
            "15462/15462 [==============================] - 41s 3ms/sample - loss: 1.6048 - acc: 0.7213\n",
            "Epoch 71/100\n",
            "15462/15462 [==============================] - 41s 3ms/sample - loss: 1.5902 - acc: 0.7195\n",
            "Epoch 72/100\n",
            "15462/15462 [==============================] - 41s 3ms/sample - loss: 1.5702 - acc: 0.7244\n",
            "Epoch 73/100\n",
            "15462/15462 [==============================] - 41s 3ms/sample - loss: 1.5351 - acc: 0.7354\n",
            "Epoch 74/100\n",
            "15462/15462 [==============================] - 41s 3ms/sample - loss: 1.5151 - acc: 0.7352\n",
            "Epoch 75/100\n",
            "15462/15462 [==============================] - 41s 3ms/sample - loss: 1.4943 - acc: 0.7396\n",
            "Epoch 76/100\n",
            "15462/15462 [==============================] - 41s 3ms/sample - loss: 1.4836 - acc: 0.7424\n",
            "Epoch 77/100\n",
            "15462/15462 [==============================] - 40s 3ms/sample - loss: 1.4754 - acc: 0.7424\n",
            "Epoch 78/100\n",
            "15462/15462 [==============================] - 42s 3ms/sample - loss: 1.4398 - acc: 0.7515\n",
            "Epoch 79/100\n",
            "15462/15462 [==============================] - 42s 3ms/sample - loss: 1.4168 - acc: 0.7535\n",
            "Epoch 80/100\n",
            "15462/15462 [==============================] - 42s 3ms/sample - loss: 1.4093 - acc: 0.7533\n",
            "Epoch 81/100\n",
            "15462/15462 [==============================] - 42s 3ms/sample - loss: 1.3884 - acc: 0.7580\n",
            "Epoch 82/100\n",
            "15462/15462 [==============================] - 41s 3ms/sample - loss: 1.3563 - acc: 0.7652\n",
            "Epoch 83/100\n",
            "15462/15462 [==============================] - 41s 3ms/sample - loss: 1.3496 - acc: 0.7681\n",
            "Epoch 84/100\n",
            "15462/15462 [==============================] - 41s 3ms/sample - loss: 1.3484 - acc: 0.7652\n",
            "Epoch 85/100\n",
            "15462/15462 [==============================] - 41s 3ms/sample - loss: 1.3285 - acc: 0.7691\n",
            "Epoch 86/100\n",
            "15462/15462 [==============================] - 41s 3ms/sample - loss: 1.3116 - acc: 0.7745\n",
            "Epoch 87/100\n",
            "15462/15462 [==============================] - 41s 3ms/sample - loss: 1.2966 - acc: 0.7747\n",
            "Epoch 88/100\n",
            "15462/15462 [==============================] - 42s 3ms/sample - loss: 1.2991 - acc: 0.7724\n",
            "Epoch 89/100\n",
            "15462/15462 [==============================] - 41s 3ms/sample - loss: 1.2823 - acc: 0.7786\n",
            "Epoch 90/100\n",
            "15462/15462 [==============================] - 41s 3ms/sample - loss: 1.2638 - acc: 0.7816\n",
            "Epoch 91/100\n",
            "15462/15462 [==============================] - 41s 3ms/sample - loss: 1.2533 - acc: 0.7815\n",
            "Epoch 92/100\n",
            "15462/15462 [==============================] - 42s 3ms/sample - loss: 1.2317 - acc: 0.7853\n",
            "Epoch 93/100\n",
            "15462/15462 [==============================] - 41s 3ms/sample - loss: 1.2321 - acc: 0.7855\n",
            "Epoch 94/100\n",
            "15462/15462 [==============================] - 41s 3ms/sample - loss: 1.2144 - acc: 0.7899\n",
            "Epoch 95/100\n",
            "15462/15462 [==============================] - 42s 3ms/sample - loss: 1.2054 - acc: 0.7893\n",
            "Epoch 96/100\n",
            "15462/15462 [==============================] - 41s 3ms/sample - loss: 1.1888 - acc: 0.7927\n",
            "Epoch 97/100\n",
            "15462/15462 [==============================] - 41s 3ms/sample - loss: 1.1753 - acc: 0.7990\n",
            "Epoch 98/100\n",
            "15462/15462 [==============================] - 40s 3ms/sample - loss: 1.1728 - acc: 0.7945\n",
            "Epoch 99/100\n",
            "15462/15462 [==============================] - 41s 3ms/sample - loss: 1.1439 - acc: 0.8013\n",
            "Epoch 100/100\n",
            "15462/15462 [==============================] - 40s 3ms/sample - loss: 1.1457 - acc: 0.7981\n"
          ],
          "name": "stdout"
        }
      ]
    },
    {
      "cell_type": "code",
      "metadata": {
        "id": "1fXTEO3GJ282",
        "colab_type": "code",
        "colab": {
          "base_uri": "https://localhost:8080/",
          "height": 544
        },
        "outputId": "bcd0970d-d71c-4af7-fe32-0d4b808ee1de"
      },
      "source": [
        "import matplotlib.pyplot as plt\n",
        "acc = history.history['acc']\n",
        "loss = history.history['loss']\n",
        "\n",
        "epochs = range(len(acc))\n",
        "\n",
        "plt.plot(epochs, acc, 'b', label='Training accuracy')\n",
        "plt.title('Training accuracy')\n",
        "\n",
        "plt.figure()\n",
        "\n",
        "plt.plot(epochs, loss, 'b', label='Training Loss')\n",
        "plt.title('Training loss')\n",
        "plt.legend()\n",
        "\n",
        "plt.show()"
      ],
      "execution_count": 7,
      "outputs": [
        {
          "output_type": "display_data",
          "data": {
            "image/png": "[encoded data removed]",
            "text/plain": [
              "<Figure size 432x288 with 1 Axes>"
            ]
          },
          "metadata": {
            "tags": []
          }
        },
        {
          "output_type": "display_data",
          "data": {
            "image/png": "[encoded data removed]",
            "text/plain": [
              "<Figure size 432x288 with 1 Axes>"
            ]
          },
          "metadata": {
            "tags": []
          }
        }
      ]
    },
    {
      "cell_type": "code",
      "metadata": {
        "id": "6Vc6PHgxa6Hm",
        "colab_type": "code",
        "colab": {
          "base_uri": "https://localhost:8080/",
          "height": 54
        },
        "outputId": "bb146e7f-5c47-4132-faba-80a79ee98edb"
      },
      "source": [
        "seed_text = \"Help me Obi Wan Kenobi, you're my only hope\"\n",
        "next_words = 100\n",
        "  \n",
        "for _ in range(next_words):\n",
        "\ttoken_list = tokenizer.texts_to_sequences([seed_text])[0]\n",
        "\ttoken_list = pad_sequences([token_list], maxlen=max_sequence_len-1, padding='pre')\n",
        "\tpredicted = model.predict_classes(token_list, verbose=0)\n",
        "\toutput_word = \"\"\n",
        "\tfor word, index in tokenizer.word_index.items():\n",
        "\t\tif index == predicted:\n",
        "\t\t\toutput_word = word\n",
        "\t\t\tbreak\n",
        "\tseed_text += \" \" + output_word\n",
        "print(seed_text)"
      ],
      "execution_count": 8,
      "outputs": [
        {
          "output_type": "stream",
          "text": [
            "Help me Obi Wan Kenobi, you're my only hope are you with your rhyme rhyme part to tell pain ride go wide near survey rare exceeds razed gone or forth each ' lies go delight skill past way dwells quite fitted fitted twain hate men past days twain twain go rhyme delight tongue delight skill report light hits fitted sway'st quite fitted back live good rage doth date light quite quite had did give ill twain write 'tis me life away things fire fire past youth so best live they forsworn thee die mine eyes grew ill decrease decrease in their moan me in hate night new new days\n"
          ],
          "name": "stdout"
        }
      ]
    }
  ]
}