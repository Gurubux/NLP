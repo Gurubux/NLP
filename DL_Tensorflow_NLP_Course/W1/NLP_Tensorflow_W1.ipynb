{
  "nbformat": 4,
  "nbformat_minor": 0,
  "metadata": {
    "colab": {
      "name": "NLP_Tensorflow_W1.ipynb",
      "provenance": [],
      "collapsed_sections": []
    },
    "kernelspec": {
      "name": "python3",
      "display_name": "Python 3"
    }
  },
  "cells": [
    {
      "cell_type": "markdown",
      "metadata": {
        "id": "PrKm58LKUEwp",
        "colab_type": "text"
      },
      "source": [
        "# Natural Language Processing in TensorFlow by deeplearning.ai\n",
        "https://www.coursera.org/learn/natural-language-processing-tensorflow/"
      ]
    },
    {
      "cell_type": "markdown",
      "metadata": {
        "id": "2Qi_kd8oa9Vu",
        "colab_type": "text"
      },
      "source": [
        "## Week 1 - Sentiment in text"
      ]
    },
    {
      "cell_type": "markdown",
      "metadata": {
        "id": "nART81JYUUbf",
        "colab_type": "text"
      },
      "source": [
        "### Word Encoding\n",
        "\n",
        "**Tokenizer**"
      ]
    },
    {
      "cell_type": "code",
      "metadata": {
        "id": "yg0iAH10UAEy",
        "colab_type": "code",
        "colab": {}
      },
      "source": [
        "import tensorflow as tf\n",
        "from tensorflow import keras\n",
        "from tensorflow.keras.preprocessing.text import Tokenizer"
      ],
      "execution_count": 0,
      "outputs": []
    },
    {
      "cell_type": "code",
      "metadata": {
        "id": "M0GCjNeOUnhB",
        "colab_type": "code",
        "colab": {}
      },
      "source": [
        "sentences = ['I love my dog','I love my cat','You Love my dog!','Do you think my dog is amazing']"
      ],
      "execution_count": 0,
      "outputs": []
    },
    {
      "cell_type": "code",
      "metadata": {
        "id": "5_x-VSKsUxJX",
        "colab_type": "code",
        "colab": {
          "base_uri": "https://localhost:8080/",
          "height": 72
        },
        "outputId": "b118f37b-ec4d-4963-d0f6-294824005f6e"
      },
      "source": [
        "tokenizer = Tokenizer(num_words=100)\n",
        "tokenizer.fit_on_texts(sentences)\n",
        "word_index = tokenizer.word_index\n",
        "sequences = tokenizer.texts_to_sequences(sentences)\n",
        "print(word_index)\n",
        "print(sequences)"
      ],
      "execution_count": 13,
      "outputs": [
        {
          "output_type": "stream",
          "text": [
            "{'my': 1, 'love': 2, 'dog': 3, 'i': 4, 'you': 5, 'cat': 6, 'do': 7, 'think': 8, 'is': 9, 'amazing': 10}\n",
            "[[4, 2, 1, 3], [4, 2, 1, 6], [5, 2, 1, 3], [7, 5, 8, 1, 3, 9, 10]]\n"
          ],
          "name": "stdout"
        }
      ]
    },
    {
      "cell_type": "markdown",
      "metadata": {
        "id": "B1lpkIuWVNfo",
        "colab_type": "text"
      },
      "source": [
        "Tokenizer creates a corpus of dictionary of {word : token} format\n",
        "\n",
        "**word_index**\n",
        "  \n",
        "\n",
        ">  num_words parameter takes n( in this case n=100) most common words from the text you pass in fit_on_texts()\n",
        "\n",
        ">  `{'love': 1, 'my': 2, 'i': 3, 'dog': 4, 'cat': 5, 'you': 6}`\n",
        "\n",
        ">  *(Auto lowercases and excludes puntuations i.e dog and dog! are same)*\n",
        "\n",
        "\n",
        "\n",
        "\n",
        "**texts_to_sequences**\n",
        "\n",
        "> [[3, 1, 2, 4], [3, 1, 2, 5], [6, 1, 2, 4]]\n",
        "\n"
      ]
    },
    {
      "cell_type": "markdown",
      "metadata": {
        "id": "JcTkBMz1bPF2",
        "colab_type": "text"
      },
      "source": [
        "### Padding - Size Uniformity"
      ]
    },
    {
      "cell_type": "markdown",
      "metadata": {
        "id": "_hOAroI5ghOQ",
        "colab_type": "text"
      },
      "source": [
        "By default, Padding as well as losing data is 'pre' (can be put to 'post' by padding = 'post' in pad_sequences())"
      ]
    },
    {
      "cell_type": "code",
      "metadata": {
        "id": "2zEdXv1CbVEk",
        "colab_type": "code",
        "colab": {
          "base_uri": "https://localhost:8080/",
          "height": 87
        },
        "outputId": "6ee71fa6-19a3-45a4-992d-e8dfc2ed2626"
      },
      "source": [
        "from tensorflow.keras.preprocessing.sequence import pad_sequences\n",
        "padded = pad_sequences(sequences)\n",
        "print(padded)"
      ],
      "execution_count": 16,
      "outputs": [
        {
          "output_type": "stream",
          "text": [
            "[[ 0  0  0  4  2  1  3]\n",
            " [ 0  0  0  4  2  1  6]\n",
            " [ 0  0  0  5  2  1  3]\n",
            " [ 7  5  8  1  3  9 10]]\n"
          ],
          "name": "stdout"
        }
      ]
    },
    {
      "cell_type": "code",
      "metadata": {
        "id": "GpLr5UWeeh7c",
        "colab_type": "code",
        "colab": {}
      },
      "source": [
        "test_data = ['I really love my dog','My dog loves my food']"
      ],
      "execution_count": 0,
      "outputs": []
    },
    {
      "cell_type": "code",
      "metadata": {
        "id": "hlGeJ256fU4M",
        "colab_type": "code",
        "colab": {
          "base_uri": "https://localhost:8080/",
          "height": 34
        },
        "outputId": "7243ff8a-d1e2-45c7-e75a-e332b0b9bc45"
      },
      "source": [
        "test_seq = tokenizer.texts_to_sequences(test_data)\n",
        "print(test_seq)"
      ],
      "execution_count": 19,
      "outputs": [
        {
          "output_type": "stream",
          "text": [
            "[[4, 2, 1, 3], [1, 3, 1]]\n"
          ],
          "name": "stdout"
        }
      ]
    },
    {
      "cell_type": "code",
      "metadata": {
        "id": "NtRlKP6JeNFT",
        "colab_type": "code",
        "colab": {
          "base_uri": "https://localhost:8080/",
          "height": 52
        },
        "outputId": "b3583b1f-6c7c-4b7c-81d9-af9c6b737150"
      },
      "source": [
        "padded_1 = pad_sequences(test_seq)\n",
        "print(padded_1)"
      ],
      "execution_count": 20,
      "outputs": [
        {
          "output_type": "stream",
          "text": [
            "[[4 2 1 3]\n",
            " [0 1 3 1]]\n"
          ],
          "name": "stdout"
        }
      ]
    },
    {
      "cell_type": "markdown",
      "metadata": {
        "id": "rQukS3Qffj7W",
        "colab_type": "text"
      },
      "source": [
        "oov_token"
      ]
    },
    {
      "cell_type": "code",
      "metadata": {
        "id": "a9PEgjwteaXu",
        "colab_type": "code",
        "colab": {
          "base_uri": "https://localhost:8080/",
          "height": 72
        },
        "outputId": "9ee6894a-6263-406c-b8f8-0e33c97e4fed"
      },
      "source": [
        "tokenizer = Tokenizer(num_words=100,oov_token='<OOV>')\n",
        "tokenizer.fit_on_texts(sentences)\n",
        "word_index = tokenizer.word_index\n",
        "oov_sequences = tokenizer.texts_to_sequences(sentences)\n",
        "print(word_index)\n",
        "print(oov_sequences)"
      ],
      "execution_count": 21,
      "outputs": [
        {
          "output_type": "stream",
          "text": [
            "{'<OOV>': 1, 'my': 2, 'love': 3, 'dog': 4, 'i': 5, 'you': 6, 'cat': 7, 'do': 8, 'think': 9, 'is': 10, 'amazing': 11}\n",
            "[[5, 3, 2, 4], [5, 3, 2, 7], [6, 3, 2, 4], [8, 6, 9, 2, 4, 10, 11]]\n"
          ],
          "name": "stdout"
        }
      ]
    },
    {
      "cell_type": "code",
      "metadata": {
        "id": "-fQTdhU7f3t6",
        "colab_type": "code",
        "colab": {
          "base_uri": "https://localhost:8080/",
          "height": 34
        },
        "outputId": "4616ca24-a6d6-4429-fa4e-3e7388add9a2"
      },
      "source": [
        "test_seq = tokenizer.texts_to_sequences(test_data)\n",
        "print(test_seq)"
      ],
      "execution_count": 23,
      "outputs": [
        {
          "output_type": "stream",
          "text": [
            "[[5, 1, 3, 2, 4], [2, 4, 1, 2, 1]]\n"
          ],
          "name": "stdout"
        }
      ]
    },
    {
      "cell_type": "code",
      "metadata": {
        "id": "vnTzaH9MePG4",
        "colab_type": "code",
        "colab": {
          "base_uri": "https://localhost:8080/",
          "height": 87
        },
        "outputId": "b73fbf0c-2d8d-4ff7-9373-cfa097af37ec"
      },
      "source": [
        "padded_2 = pad_sequences(oov_sequences)\n",
        "print(padded_2)"
      ],
      "execution_count": 22,
      "outputs": [
        {
          "output_type": "stream",
          "text": [
            "[[ 0  0  0  5  3  2  4]\n",
            " [ 0  0  0  5  3  2  7]\n",
            " [ 0  0  0  6  3  2  4]\n",
            " [ 8  6  9  2  4 10 11]]\n"
          ],
          "name": "stdout"
        }
      ]
    },
    {
      "cell_type": "code",
      "metadata": {
        "id": "ot8EVRy2gHhE",
        "colab_type": "code",
        "colab": {
          "base_uri": "https://localhost:8080/",
          "height": 52
        },
        "outputId": "cc4d0f38-fe0f-4a3b-dce1-240721203ec3"
      },
      "source": [
        "padded_3 = pad_sequences(test_seq)\n",
        "print(padded_3)"
      ],
      "execution_count": 24,
      "outputs": [
        {
          "output_type": "stream",
          "text": [
            "[[5 1 3 2 4]\n",
            " [2 4 1 2 1]]\n"
          ],
          "name": "stdout"
        }
      ]
    },
    {
      "cell_type": "code",
      "metadata": {
        "id": "GjprLMnTgYFA",
        "colab_type": "code",
        "colab": {
          "base_uri": "https://localhost:8080/",
          "height": 52
        },
        "outputId": "ba263817-91e9-499c-8f73-803aa5a29337"
      },
      "source": [
        "padded_4 = pad_sequences(test_seq,maxlen=10)\n",
        "print(padded_4)"
      ],
      "execution_count": 25,
      "outputs": [
        {
          "output_type": "stream",
          "text": [
            "[[0 0 0 0 0 5 1 3 2 4]\n",
            " [0 0 0 0 0 2 4 1 2 1]]\n"
          ],
          "name": "stdout"
        }
      ]
    },
    {
      "cell_type": "code",
      "metadata": {
        "id": "1Zr0KftAhBrC",
        "colab_type": "code",
        "colab": {
          "base_uri": "https://localhost:8080/",
          "height": 52
        },
        "outputId": "8db6191c-e2f1-4b60-e29b-d700c5d84f4d"
      },
      "source": [
        "padded_4 = pad_sequences(test_seq,maxlen=10,padding='post')\n",
        "print(padded_4)"
      ],
      "execution_count": 26,
      "outputs": [
        {
          "output_type": "stream",
          "text": [
            "[[5 1 3 2 4 0 0 0 0 0]\n",
            " [2 4 1 2 1 0 0 0 0 0]]\n"
          ],
          "name": "stdout"
        }
      ]
    },
    {
      "cell_type": "code",
      "metadata": {
        "id": "IZ7E2FFXhYfs",
        "colab_type": "code",
        "colab": {
          "base_uri": "https://localhost:8080/",
          "height": 161
        },
        "outputId": "74ad72ec-5615-4dc6-936c-e3d28d31e989"
      },
      "source": [
        "import tensorflow as tf\n",
        "from tensorflow import keras\n",
        "from tensorflow.keras.preprocessing.text import Tokenizer\n",
        "from tensorflow.keras.preprocessing.sequence import pad_sequences\n",
        "\n",
        "sentences = ['I love my dog','I love my cat','You Love my dog!','Do you think my dog is amazing']\n",
        "\n",
        "tokenizer = Tokenizer(num_words=100,oov_token='<OOV>')\n",
        "tokenizer.fit_on_texts(sentences)\n",
        "\n",
        "word_index = tokenizer.word_index\n",
        "print(word_index)\n",
        "\n",
        "sequences = tokenizer.texts_to_sequences(sentences)\n",
        "print(sequences)\n",
        "\n",
        "padded = pad_sequences(sequences,padding='post',maxlen=10)#default padding = pre and maxlen = longest sequence length\n",
        "print(padded)\n",
        "\n",
        "test_data = ['I really love my dog','My dog loves my food'] # <OOV> comes into picture when missing data\n",
        "sequences = tokenizer.texts_to_sequences(sentences)\n",
        "print(sequences)\n"
      ],
      "execution_count": 27,
      "outputs": [
        {
          "output_type": "stream",
          "text": [
            "{'<OOV>': 1, 'my': 2, 'love': 3, 'dog': 4, 'i': 5, 'you': 6, 'cat': 7, 'do': 8, 'think': 9, 'is': 10, 'amazing': 11}\n",
            "[[5, 3, 2, 4], [5, 3, 2, 7], [6, 3, 2, 4], [8, 6, 9, 2, 4, 10, 11]]\n",
            "[[ 5  3  2  4  0  0  0  0  0  0]\n",
            " [ 5  3  2  7  0  0  0  0  0  0]\n",
            " [ 6  3  2  4  0  0  0  0  0  0]\n",
            " [ 8  6  9  2  4 10 11  0  0  0]]\n",
            "[[5, 3, 2, 4], [5, 3, 2, 7], [6, 3, 2, 4], [8, 6, 9, 2, 4, 10, 11]]\n"
          ],
          "name": "stdout"
        }
      ]
    }
  ]
}